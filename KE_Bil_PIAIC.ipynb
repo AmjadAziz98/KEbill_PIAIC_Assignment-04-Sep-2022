{
 "cells": [
  {
   "cell_type": "code",
   "execution_count": 59,
   "id": "472b2dae",
   "metadata": {},
   "outputs": [],
   "source": [
    "def electricity(units):\n",
    "    if units >= 1 and units <= 100:\n",
    "        charges = units * 9.43\n",
    "    \n",
    "    elif units > 100 and units <= 200:\n",
    "        charges = units * 10.29\n",
    "    \n",
    "    elif units > 200 and units <= 300:\n",
    "        charges = units * 12.55\n",
    "    \n",
    "    elif units > 300 and units <= 400:\n",
    "        charges = units * 17.38\n",
    "    \n",
    "    elif units > 400 and units <= 500:\n",
    "        charges = units * 18.84\n",
    "    \n",
    "    elif units > 500 and units <= 600:\n",
    "        charges = units * 19.76\n",
    "    \n",
    "    elif units > 600 and units <= 700:\n",
    "        charges = units * 20.40\n",
    "\n",
    "    elif units > 700:\n",
    "        charges = units * 23.87\n",
    "    \n",
    "    else:\n",
    "        charges = -1\n",
    "    \n",
    "    return charges"
   ]
  },
  {
   "cell_type": "code",
   "execution_count": 60,
   "id": "9355f7c0",
   "metadata": {},
   "outputs": [],
   "source": [
    "def uniform(units):\n",
    "    if units >= 1 and units <= 100:\n",
    "        charges = units * 3.95\n",
    "    \n",
    "    elif units > 100 and units <= 200:\n",
    "        charges = units * 7.67\n",
    "        \n",
    "    else:\n",
    "        print(\"No Uniform Changes applied\")\n",
    "        charges = 0\n",
    "        \n",
    "    return charges"
   ]
  },
  {
   "cell_type": "code",
   "execution_count": 61,
   "id": "108e1324",
   "metadata": {},
   "outputs": [],
   "source": [
    "def fuel(monthly_units):\n",
    "    charges = units * 6.88\n",
    "    \n",
    "    return charges\n",
    "\n",
    "def sales_tax(units):\n",
    "    charges = 865.43\n",
    "    return charges\n",
    "\n",
    "def tv_fees():\n",
    "    charges = 335.71\n",
    "    return charges\n",
    "\n",
    "def advance_tax():\n",
    "    charges = 940.66\n",
    "    return charges"
   ]
  },
  {
   "cell_type": "code",
   "execution_count": 62,
   "id": "2ec5024e",
   "metadata": {},
   "outputs": [],
   "source": [
    "def bill_main(monthly_units):\n",
    "    electric_charges = electricity(monthly_units)\n",
    "    print(\"Your electric charges for\", monthly_units, \"units =\", electric_charges)\n",
    "    \n",
    "    uniform_charges = uniform(monthly_units)\n",
    "    print(\"Uniform charges for\", monthly_units, \"units =\", uniform_charges)\n",
    "    \n",
    "    fuel_charges = fuel(monthly_units)\n",
    "    print(\"Fuel adjustment charges for\", monthly_units, \"units =\", fuel_charges)\n",
    "    \n",
    "    sale_tax = sales_tax(monthly_units)\n",
    "    print(\"Sale tax for\", monthly_units, \"units =\", sale_tax)\n",
    "    \n",
    "    advanceTax = advance_tax()\n",
    "    print(\"Advance and Government TAX = \", advanceTax)\n",
    "    \n",
    "    tv_fee = tv_fees()\n",
    "    print(\"TV license fees for\", monthly_units, \"=\", tv_fee)\n",
    "    \n",
    "    total = electric_charges + uniform_charges + fuel_charges + sale_tax + advanceTax + tv_fee\n",
    "    print(\"------------------------------------------------------------------------\")\n",
    "    print(\"Your total Electricity bill for\", monthly_units, \"units =\", total)\n"
   ]
  },
  {
   "cell_type": "code",
   "execution_count": 63,
   "id": "86d5c19e",
   "metadata": {},
   "outputs": [
    {
     "name": "stdout",
     "output_type": "stream",
     "text": [
      "Please enter your units here: 157\n",
      "********************************************************************\n",
      "Your electric charges for 157 units = 1615.53\n",
      "Uniform charges for 157 units = 1204.19\n",
      "Fuel adjustment charges for 157 units = 1080.16\n",
      "Sale tax for 157 units = 865.43\n",
      "Advance and Government TAX =  940.66\n",
      "TV license fees for 157 = 335.71\n",
      "------------------------------------------------------------------------\n",
      "Your total Electricity bill for 157 units = 6041.68\n"
     ]
    }
   ],
   "source": [
    "units = int(input(\"Please enter your units here: \"))\n",
    "print(\"********************************************************************\")\n",
    "\n",
    "bill_main(units)"
   ]
  },
  {
   "cell_type": "code",
   "execution_count": null,
   "id": "d1eb3c3f",
   "metadata": {},
   "outputs": [],
   "source": []
  }
 ],
 "metadata": {
  "kernelspec": {
   "display_name": "Python 3 (ipykernel)",
   "language": "python",
   "name": "python3"
  },
  "language_info": {
   "codemirror_mode": {
    "name": "ipython",
    "version": 3
   },
   "file_extension": ".py",
   "mimetype": "text/x-python",
   "name": "python",
   "nbconvert_exporter": "python",
   "pygments_lexer": "ipython3",
   "version": "3.9.12"
  }
 },
 "nbformat": 4,
 "nbformat_minor": 5
}
